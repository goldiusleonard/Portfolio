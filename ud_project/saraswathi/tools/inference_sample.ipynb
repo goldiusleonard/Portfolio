{
 "cells": [
  {
   "cell_type": "markdown",
   "metadata": {},
   "source": [
    "# Meta-Llama-3.1-70B-Instruct-AWQ-INT4 (vLLM)"
   ]
  },
  {
   "cell_type": "code",
   "execution_count": 6,
   "metadata": {},
   "outputs": [
    {
     "name": "stdout",
     "output_type": "stream",
     "text": [
      "```sql\n",
      "WITH MonthlyPriceData AS (\n",
      "    SELECT \n",
      "        T.sbTickerSymbol,\n",
      "        YEAR(DP.sbDpDate) AS Year,\n",
      "        MONTH(DP.sbDpDate) AS Month,\n",
      "        AVG(DP.sbDpClose) AS AverageClose,\n",
      "        MAX(DP.sbDpHigh) AS HighestPrice,\n",
      "        MIN(DP.sbDpLow) AS LowestPrice\n",
      "    FROM \n",
      "        broker.sbDailyPrice DP\n",
      "    JOIN \n",
      "        broker.sbTicker T ON DP.sbDpTickerId = T.sbTickerId\n",
      "    GROUP BY \n",
      "        T.sbTickerSymbol,\n",
      "        YEAR(DP.sbDpDate),\n",
      "        MONTH(DP.sbDpDate)\n",
      "),\n",
      "MonthlyPriceDataWithMoMC AS (\n",
      "    SELECT \n",
      "        sbTickerSymbol,\n",
      "        Year,\n",
      "        Month,\n",
      "        AverageClose,\n",
      "        HighestPrice,\n",
      "        LowestPrice,\n",
      "        (AverageClose - LAG(AverageClose) OVER (PARTITION BY sbTickerSymbol ORDER BY Year, Month)) / LAG(AverageClose) OVER (PARTITION BY sbTickerSymbol ORDER BY Year, Month) AS MoMC\n",
      "    FROM \n",
      "        MonthlyPriceData\n",
      ")\n",
      "SELECT \n",
      "    sbTickerSymbol,\n",
      "    Year,\n",
      "    Month,\n",
      "    AverageClose,\n",
      "    HighestPrice,\n",
      "    LowestPrice,\n",
      "    MoMC\n",
      "FROM \n",
      "    MonthlyPriceDataWithMoMC\n",
      "ORDER BY \n",
      "    sbTickerSymbol,\n",
      "    Year,\n",
      "    Month;\n",
      "```\n"
     ]
    }
   ],
   "source": [
    "from openai import OpenAI\n",
    "\n",
    "client = OpenAI(\n",
    "    base_url=\"http://195.242.13.129:8001/v1\",\n",
    "    api_key=\"token-abc123\",\n",
    ")\n",
    "\n",
    "db_type = \"mysql\"\n",
    "user_question = \"What is the ticker symbol, month, average closing price, highest price, lowest price, and MoMC for each ticker by month?\"\n",
    "\n",
    "# instructions = \"MoMC = month-over-month change in average closing price = (avg_close_given_month - avg_close_previous_month) / avg_close_previous_month for each ticker symbol each month. Recall that we want the symbol, and not just the ticker id.\"\n",
    "\n",
    "instructions = \"\"\"NPM (Net Profit Margin) = (Total Income from Sales - (Tax + Commission Expenses)) / Total Income from Sales * 100, for recent transactions. TAC = Total Active Customers who have recently joined ACP = Average Closing Price of tickers over a recent period MoMC = month-over-month change in average closing price = (avg_close_given_month - avg_close_previous_month) / avg_close_previous_month for each ticker each month\"\"\"\n",
    "table_metadata_string = \"\"\"-- Table to store daily price data for stocks\n",
    "CREATE TABLE broker.sbDailyPrice (\n",
    "    sbDpDate DATETIME,                    -- Date of the daily price\n",
    "    sbDpTickerId INT,                     -- Foreign key to the ticker\n",
    "    sbDpClose DECIMAL(10, 2),             -- Closing price of the stock\n",
    "    sbDpHigh DECIMAL(10, 2),              -- Highest price of the day\n",
    "    sbDpLow DECIMAL(10, 2),               -- Lowest price of the day\n",
    "    PRIMARY KEY (sbDpDate, sbDpTickerId), -- Composite key on date and ticker ID\n",
    "    FOREIGN KEY (sbDpTickerId) REFERENCES broker.sbTicker(sbTickerId)\n",
    ");\n",
    "\n",
    "-- Table to store stock ticker symbols\n",
    "CREATE TABLE broker.sbTicker (\n",
    "    sbTickerId INT PRIMARY KEY,            -- Unique ID for each ticker\n",
    "    sbTickerSymbol VARCHAR(10) NOT NULL    -- Stock ticker symbol\n",
    ");\"\"\"\n",
    "k_shot_prompt = \"\"\n",
    "\n",
    "completion = client.chat.completions.create(\n",
    "    model=\"hugging-quants/Meta-Llama-3.1-70B-Instruct-AWQ-INT4\",\n",
    "    messages=[\n",
    "        {\n",
    "            \"role\": \"system\",\n",
    "            \"content\": f\"Your role is to convert a user question to a {db_type} query, given a database schema.\",\n",
    "        },\n",
    "        {\n",
    "            \"role\": \"user\",\n",
    "            \"content\": f\"Generate a SQL query that answers the question `{user_question}`.\\n{instructions}\\nThis query will run on a database whose schema is represented in this string:\\n{table_metadata_string}\\n{k_shot_prompt}\\nReturn only the SQL query, and nothing else.\",\n",
    "        },\n",
    "    ],\n",
    "    max_tokens=500,\n",
    "    temperature=0.1,\n",
    ")\n",
    "\n",
    "print(completion.choices[0].message.content)"
   ]
  },
  {
   "cell_type": "code",
   "execution_count": 2,
   "metadata": {},
   "outputs": [
    {
     "name": "stdout",
     "output_type": "stream",
     "text": [
      "A fact table storing booking data, including the year, quarter, month, and date of bookings. It contains information about the owner who made the booking, such as their login city code, duty code, and initials. The table also tracks the office agent type and booking activity metrics, including the number of passenger name records (PNRs) generated and tickets sold. This data provides insights into booking patterns and agent performance. It is used for analyzing and reporting on booking activities.\n"
     ]
    }
   ],
   "source": [
    "from openai import OpenAI\n",
    "\n",
    "client = OpenAI(\n",
    "    base_url=\"http://172.210.166.80:8001/v1\",\n",
    "    api_key=\"token-abc123\",\n",
    ")\n",
    "\n",
    "system_prompt = \"You are a helpful assistant\"\n",
    "\n",
    "user_prompt = \"\"\"\n",
    "Your task is to write sentences (maximum 5 sentences) to describe a table.\n",
    "Make sure that the sentences you generated are brief, concise, and contain only essential information.\n",
    " \n",
    "Sample 1 of Expected Answer:\n",
    "A fact table from SAP that is a core component of the Financial Accounting (FI) module, responsible for storing individual line item data related to financial transactions. It holds crucial information such as the general ledger account numbers, amounts, currencies, and other key data needed to represent financial postings in a detailed and structured manner. As one of the primary tables, BSEG plays a vital role in providing a transparent and comprehensive overview of the organization's financial data for reporting, analysis, and auditing purposes.\n",
    " \n",
    "Sample 2 of Expected Answer:\n",
    "A dimension table containing information about cities, including their names, states, postal codes, countries, and territories. It is used to map geographical data.\n",
    " \n",
    "!!!IMPORTANT, DO NOT REPEAT THE TABLE'S NAME AS PART OF YOUR ANSWER, ANSWER STRAIGHT AWAY!!!\n",
    " \n",
    "Below is the actual table's name, type (fact or dimension table), and column names as context:\n",
    "Table Name: mag_dataasset3_20240216_1035\n",
    "Table Type: fact\n",
    "Column Names: booking_year|booking_quarter|booking_month|booking_date|booking_day|owner_login_city_code|owner_login_duty_code|owner_login_initials|owner_office_agent_type|cnt_pnr_generated|cnt_tix_sold\n",
    "Answer (maximum 5 sentences of brief and concise description of the table):\n",
    "\"\"\"\n",
    "\n",
    "completion = client.chat.completions.create(\n",
    "    model=\"hugging-quants/Meta-Llama-3.1-70B-Instruct-AWQ-INT4\",\n",
    "    messages=[\n",
    "        {\"role\": \"system\", \"content\": system_prompt},\n",
    "        {\"role\": \"user\", \"content\": user_prompt},\n",
    "    ],\n",
    "    max_tokens=100,\n",
    "    temperature=0.1,\n",
    ")\n",
    "\n",
    "print(completion.choices[0].message.content)"
   ]
  },
  {
   "cell_type": "markdown",
   "metadata": {},
   "source": [
    "# Mixtral 8X7B v0.1 Instruct (vLLM)"
   ]
  },
  {
   "cell_type": "code",
   "execution_count": 1,
   "metadata": {},
   "outputs": [
    {
     "name": "stdout",
     "output_type": "stream",
     "text": [
      " This fact table records data for a specific date in 2024, containing booking information for various entities. It includes details such as the booking year, quarter, month, date, and day. Additionally, it tracks data for the city code, duty code, initials of the owner, office agent type, number of PNRs generated, and number of tickets sold. This table supports transactional and aggregated analysis in a data warehouse.\n"
     ]
    }
   ],
   "source": [
    "from openai import OpenAI\n",
    "\n",
    "client = OpenAI(\n",
    "    base_url=\"http://172.210.166.80:8000/v1\",\n",
    "    api_key=\"token-abc123\",\n",
    ")\n",
    "\n",
    "system_prompt = \"You are a helpful assistant\"\n",
    "\n",
    "user_prompt = \"\"\"\"\n",
    "Your task is to write sentences (maximum 5 sentences) to describe a table.\n",
    "Make sure that the sentences you generated are brief, concise, and contain only essential information.\n",
    " \n",
    "Sample 1 of Expected Answer:\n",
    "A fact table from SAP that is a core component of the Financial Accounting (FI) module, responsible for storing individual line item data related to financial transactions. It holds crucial information such as the general ledger account numbers, amounts, currencies, and other key data needed to represent financial postings in a detailed and structured manner. As one of the primary tables, BSEG plays a vital role in providing a transparent and comprehensive overview of the organization's financial data for reporting, analysis, and auditing purposes.\n",
    " \n",
    "Sample 2 of Expected Answer:\n",
    "A dimension table containing information about cities, including their names, states, postal codes, countries, and territories. It is used to map geographical data.\n",
    " \n",
    "!!!IMPORTANT, DO NOT REPEAT THE TABLE'S NAME AS PART OF YOUR ANSWER, ANSWER STRAIGHT AWAY!!!\n",
    " \n",
    "Below is the actual table's name, type (fact or dimension table), and column names as context:\n",
    "Table Name: mag_dataasset3_20240216_1035\n",
    "Table Type: fact\n",
    "Column Names: booking_year|booking_quarter|booking_month|booking_date|booking_day|owner_login_city_code|owner_login_duty_code|owner_login_initials|owner_office_agent_type|cnt_pnr_generated|cnt_tix_sold\n",
    "Answer (maximum 5 sentences of brief and concise description of the table):\n",
    "\"\"\"\n",
    "\n",
    "completion = client.chat.completions.create(\n",
    "    model=\"TheBloke/Mixtral-8x7B-Instruct-v0.1-GPTQ\",\n",
    "    # prompt=f\"<s> [INST] {system_prompt} [/INST] </s> [INST] {user_prompt} [/INST]\",\n",
    "    messages=[\n",
    "        {\"role\": \"system\", \"content\": system_prompt},\n",
    "        {\"role\": \"user\", \"content\": user_prompt},\n",
    "    ],\n",
    "    max_tokens=100,\n",
    "    temperature=0.1,\n",
    ")\n",
    "\n",
    "print(completion.choices[0].message.content)"
   ]
  },
  {
   "cell_type": "markdown",
   "metadata": {},
   "source": [
    "# Llama 2 70B Chat 4-Bit (vLLM using OpenAI, Non-Streaming)"
   ]
  },
  {
   "cell_type": "code",
   "execution_count": 4,
   "metadata": {},
   "outputs": [
    {
     "name": "stdout",
     "output_type": "stream",
     "text": [
      "fact\n"
     ]
    }
   ],
   "source": [
    "from openai import OpenAI\n",
    "\n",
    "client = OpenAI(\n",
    "    base_url=\"http://172.210.166.80:8001/v1\",\n",
    "    api_key=\"token-abc123\",\n",
    ")\n",
    "\n",
    "system_prompt = \"You are a helpful assistant\"\n",
    "\n",
    "user_prompt = \"\"\"\n",
    "Your task is to write sentences (maximum 5 sentences) to describe a table.\n",
    "Make sure that the sentences you generated are brief, concise, and contain only essential information.\n",
    " \n",
    "Sample 1 of Expected Answer:\n",
    "A fact table from SAP that is a core component of the Financial Accounting (FI) module, responsible for storing individual line item data related to financial transactions. It holds crucial information such as the general ledger account numbers, amounts, currencies, and other key data needed to represent financial postings in a detailed and structured manner. As one of the primary tables, BSEG plays a vital role in providing a transparent and comprehensive overview of the organization's financial data for reporting, analysis, and auditing purposes.\n",
    " \n",
    "Sample 2 of Expected Answer:\n",
    "A dimension table containing information about cities, including their names, states, postal codes, countries, and territories. It is used to map geographical data.\n",
    " \n",
    "!!!IMPORTANT, DO NOT REPEAT THE TABLE'S NAME AS PART OF YOUR ANSWER, ANSWER STRAIGHT AWAY!!!\n",
    " \n",
    "Below is the actual table's name, type (fact or dimension table), and column names as context:\n",
    "Table Name: mag_dataasset3_20240216_1035\n",
    "Table Type: fact\n",
    "Column Names: booking_year|booking_quarter|booking_month|booking_date|booking_day|owner_login_city_code|owner_login_duty_code|owner_login_initials|owner_office_agent_type|cnt_pnr_generated|cnt_tix_sold\n",
    "Answer (maximum 5 sentences of brief and concise description of the table):\n",
    "\"\"\"\n",
    "\n",
    "completion = client.completions.create(\n",
    "    model=\"hugging-quants/Meta-Llama-3.1-70B-Instruct-AWQ-INT4\",\n",
    "    prompt=\"\"\"[INST] <<SYS>>\n",
    "{system_prompt}\n",
    "<</SYS>>\n",
    "{user_prompt}[/INST]\"\"\".format(system_prompt=system_prompt, user_prompt=user_prompt),\n",
    "    max_tokens=100,\n",
    "    temperature=0.1,\n",
    "    extra_body={\"guided_choice\": [\"dimension\", \"fact\"]},\n",
    ")\n",
    "\n",
    "print(completion.choices[0].text)"
   ]
  },
  {
   "cell_type": "markdown",
   "metadata": {},
   "source": [
    "# Llama 2 70B Chat 4-Bit (vLLM using OpenAI, Streaming)"
   ]
  },
  {
   "cell_type": "code",
   "execution_count": 37,
   "metadata": {},
   "outputs": [
    {
     "name": "stdout",
     "output_type": "stream",
     "text": [
      "  This table, mag_dataasset3_20240216_1035, is a fact table that stores data related to bookings, including the year, quarter, month, date, day, and other information related to the owner's login details and office agent type. It also contains information on the number of PNRs generated and tickets sold. This table is essential for financial reporting, analysis, and auditing purposes, as it provides a"
     ]
    }
   ],
   "source": [
    "from openai import OpenAI\n",
    "\n",
    "client = OpenAI(\n",
    "    base_url=\"http://52.191.118.16:8001/v1\",\n",
    "    api_key=\"token-abc123\",\n",
    ")\n",
    "\n",
    "system_prompt = \"You are a helpful assistant\"\n",
    "\n",
    "user_prompt = \"\"\"\n",
    "Your task is to write sentences (maximum 5 sentences) to describe a table.\n",
    "Make sure that the sentences you generated are brief, concise, and contain only essential information.\n",
    " \n",
    "Sample 1 of Expected Answer:\n",
    "A fact table from SAP that is a core component of the Financial Accounting (FI) module, responsible for storing individual line item data related to financial transactions. It holds crucial information such as the general ledger account numbers, amounts, currencies, and other key data needed to represent financial postings in a detailed and structured manner. As one of the primary tables, BSEG plays a vital role in providing a transparent and comprehensive overview of the organization's financial data for reporting, analysis, and auditing purposes.\n",
    " \n",
    "Sample 2 of Expected Answer:\n",
    "A dimension table containing information about cities, including their names, states, postal codes, countries, and territories. It is used to map geographical data.\n",
    " \n",
    "!!!IMPORTANT, DO NOT REPEAT THE TABLE'S NAME AS PART OF YOUR ANSWER, ANSWER STRAIGHT AWAY!!!\n",
    " \n",
    "Below is the actual table's name, type (fact or dimension table), and column names as context:\n",
    "Table Name: mag_dataasset3_20240216_1035\n",
    "Table Type: fact\n",
    "Column Names: booking_year|booking_quarter|booking_month|booking_date|booking_day|owner_login_city_code|owner_login_duty_code|owner_login_initials|owner_office_agent_type|cnt_pnr_generated|cnt_tix_sold\n",
    "Answer (maximum 5 sentences of brief and concise description of the table):\n",
    "\"\"\"\n",
    "\n",
    "response = client.completions.create(\n",
    "    model=\"TheBloke/Llama-2-70B-Chat-GPTQ\",\n",
    "    prompt=\"\"\"[INST] <<SYS>>\n",
    "{system_prompt}\n",
    "<</SYS>>\n",
    "{user_prompt}[/INST]\"\"\".format(system_prompt=system_prompt, user_prompt=user_prompt),\n",
    "    max_tokens=100,\n",
    "    temperature=0.1,\n",
    "    stream=True,\n",
    ")\n",
    "\n",
    "for chunk in response:\n",
    "    print(chunk.choices[0].text, end=\"\")"
   ]
  },
  {
   "cell_type": "markdown",
   "metadata": {},
   "source": [
    "# Llama 2 70B Chat 4-Bit (vLLM using Langchain)"
   ]
  },
  {
   "cell_type": "code",
   "execution_count": 40,
   "metadata": {},
   "outputs": [
    {
     "data": {
      "text/plain": [
       "AIMessage(content='  Sure, I\\'d be happy to help! The translation of \"I love programming\" from', response_metadata={'token_usage': {'completion_tokens': 20, 'prompt_tokens': 48, 'total_tokens': 68}, 'model_name': 'TheBloke/Llama-2-70B-Chat-GPTQ', 'system_fingerprint': None, 'finish_reason': 'length', 'logprobs': None})"
      ]
     },
     "execution_count": 40,
     "metadata": {},
     "output_type": "execute_result"
    }
   ],
   "source": [
    "from langchain_core.messages import HumanMessage, SystemMessage\n",
    "from langchain_openai import ChatOpenAI\n",
    "\n",
    "inference_server_url = \"http://52.191.118.16:8001/v1\"\n",
    "\n",
    "chat = ChatOpenAI(\n",
    "    model=\"TheBloke/Llama-2-70B-Chat-GPTQ\",\n",
    "    openai_api_key=\"EMPTY\",\n",
    "    openai_api_base=inference_server_url,\n",
    "    max_tokens=20,\n",
    "    temperature=0.1,\n",
    ")\n",
    "\n",
    "messages = [\n",
    "    SystemMessage(\n",
    "        content=\"You are a helpful assistant that translates English to Italian.\"\n",
    "    ),\n",
    "    HumanMessage(\n",
    "        content=\"Translate the following sentence from English to Italian: I love programming.\"\n",
    "    ),\n",
    "]\n",
    "chat.invoke(messages)"
   ]
  }
 ],
 "metadata": {
  "kernelspec": {
   "display_name": "saraswathi",
   "language": "python",
   "name": "python3"
  },
  "language_info": {
   "codemirror_mode": {
    "name": "ipython",
    "version": 3
   },
   "file_extension": ".py",
   "mimetype": "text/x-python",
   "name": "python",
   "nbconvert_exporter": "python",
   "pygments_lexer": "ipython3",
   "version": "3.10.15"
  }
 },
 "nbformat": 4,
 "nbformat_minor": 2
}
