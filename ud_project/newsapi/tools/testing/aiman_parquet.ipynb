{
 "cells": [
  {
   "cell_type": "code",
   "execution_count": 1,
   "metadata": {},
   "outputs": [
    {
     "name": "stderr",
     "output_type": "stream",
     "text": [
      "/var/folders/dj/146qk98d4fj8s5w6cgmlsf1m0000gs/T/ipykernel_59977/1838264021.py:15: UserWarning: pandas only supports SQLAlchemy connectable (engine/connection) or database string URI or sqlite3 DBAPI2 connection. Other DBAPI2 objects are not tested. Please consider using SQLAlchemy.\n",
      "  df = pd.read_sql(query, conn)\n"
     ]
    }
   ],
   "source": [
    "import pandas as pd\n",
    "import mysql.connector\n",
    " \n",
    "# MySQL connection\n",
    "conn = mysql.connector.connect(\n",
    "    host='20.184.17.187',\n",
    "    user='AdaDB',\n",
    "    password='Admin@2024',\n",
    "    database='ada_banks_data_asset'\n",
    ")\n",
    " \n",
    "# Query to fetch specific columns from the MySQL table\n",
    "query = \"SELECT * FROM mcmc_trial_v2.topic_keywords_and_categories;\"\n",
    "\n",
    "df = pd.read_sql(query, conn)\n",
    " \n",
    "# Close connection\n",
    "conn.close()\n",
    "\n",
    "#final_clean_df making it to parquet\n",
    "df.to_parquet('topics.parquet', index=False)  "
   ]
  },
  {
   "cell_type": "code",
   "execution_count": 2,
   "metadata": {},
   "outputs": [
    {
     "name": "stdout",
     "output_type": "stream",
     "text": [
      "              video_id     category subcategory         topic_category  \\\n",
      "0  7341739209994145032  Hate Speech       royal  Geography and History   \n",
      "1  7348693858496122120  Hate Speech        race             Literature   \n",
      "2  7360883647089478919  Hate Speech    religion          Social Issues   \n",
      "3  7373961968077622535  Hate Speech        race       Social Movements   \n",
      "4  7389836445097151761  Hate Speech    religion          Social Issues   \n",
      "5  7390001121110101266  Hate Speech    religion          Social Issues   \n",
      "6  7399490358071004433  Hate Speech    religion                History   \n",
      "7  7400301206129741064  Hate Speech    religion                History   \n",
      "8  7403192941864357127  Hate Speech    religion                History   \n",
      "9  7403626098623270152  Hate Speech        race       Social Movements   \n",
      "\n",
      "                    topic_summary        relates_to                purpose  \\\n",
      "0        Brunei Sultanate History            Brunei             Propaganda   \n",
      "1     Malay Literature Collection    Discrimination              Promotion   \n",
      "2          Youth National Service       Nationalism           Manipulation   \n",
      "3          Discrimination Against         Prejudice           Intimidation   \n",
      "4         Offensive Video Content    Discrimination             Incitement   \n",
      "5  Zakat Discussion Encouragement             Islam                Charity   \n",
      "6    Historical Cultural Analysis             Islam              Education   \n",
      "7           Malay Islamic History           Culture              Education   \n",
      "8      Caucasia Historical Figure         Terrorism           Manipulation   \n",
      "9    Melayu Independence Movement  Historical Event  Socio-political Cause   \n",
      "\n",
      "   execution_method  target_person  \n",
      "0             Video         Sultan  \n",
      "1    Visual Display       Children  \n",
      "2            Speech          Youth  \n",
      "3      Verbal Abuse       Minority  \n",
      "4             Audio       Minority  \n",
      "5      Conversation        Muslims  \n",
      "6           Lecture       Students  \n",
      "7             Trade         Malays  \n",
      "8    Misinformation     Zulqarnain  \n",
      "9  Video Propaganda  Melayu People  \n"
     ]
    }
   ],
   "source": [
    "print (df)"
   ]
  }
 ],
 "metadata": {
  "kernelspec": {
   "display_name": "base",
   "language": "python",
   "name": "python3"
  },
  "language_info": {
   "codemirror_mode": {
    "name": "ipython",
    "version": 3
   },
   "file_extension": ".py",
   "mimetype": "text/x-python",
   "name": "python",
   "nbconvert_exporter": "python",
   "pygments_lexer": "ipython3",
   "version": "3.11.5"
  }
 },
 "nbformat": 4,
 "nbformat_minor": 2
}
